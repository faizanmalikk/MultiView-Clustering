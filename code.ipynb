{
  "cells": [
    {
      "cell_type": "code",
      "execution_count": 37,
      "metadata": {
        "id": "eDTF9os1cm4n"
      },
      "outputs": [],
      "source": [
        "import pandas as pd\n",
        "import numpy as np\n",
        "from sklearn.preprocessing import StandardScaler\n",
        "\n",
        "from google.colab import drive"
      ]
    },
    {
      "cell_type": "code",
      "execution_count": 38,
      "metadata": {
        "colab": {
          "base_uri": "https://localhost:8080/"
        },
        "id": "Vp-NlzE5cvaW",
        "outputId": "e6ceb6e7-1c50-42f4-ffba-bc16df439bba"
      },
      "outputs": [
        {
          "output_type": "stream",
          "name": "stdout",
          "text": [
            "Drive already mounted at /content/drive; to attempt to forcibly remount, call drive.mount(\"/content/drive\", force_remount=True).\n"
          ]
        }
      ],
      "source": [
        "drive.mount('/content/drive')"
      ]
    },
    {
      "cell_type": "code",
      "execution_count": 39,
      "metadata": {
        "id": "ZsB1_0N5c9EU"
      },
      "outputs": [],
      "source": [
        "clinical_data = pd.read_csv('/content/drive/My Drive/Projects/multi-view/clinical.csv')\n",
        "\n",
        "genetic_data = pd.read_csv('/content/drive/My Drive/Projects/multi-view/genetic.csv')"
      ]
    },
    {
      "cell_type": "code",
      "execution_count": 40,
      "metadata": {
        "colab": {
          "base_uri": "https://localhost:8080/",
          "height": 458
        },
        "collapsed": true,
        "id": "1Mv9JW3UeCFc",
        "outputId": "3da9ad69-d81d-44d0-f8f9-d3b55c392831"
      },
      "outputs": [
        {
          "output_type": "execute_result",
          "data": {
            "text/plain": [
              "participant_id    0\n",
              "diagnosis         0\n",
              "roi0              0\n",
              "roi1              0\n",
              "roi2              0\n",
              "                 ..\n",
              "roi140            0\n",
              "roi141            0\n",
              "roi142            0\n",
              "roi143            0\n",
              "roi144            0\n",
              "Length: 147, dtype: int64"
            ],
            "text/html": [
              "<div>\n",
              "<style scoped>\n",
              "    .dataframe tbody tr th:only-of-type {\n",
              "        vertical-align: middle;\n",
              "    }\n",
              "\n",
              "    .dataframe tbody tr th {\n",
              "        vertical-align: top;\n",
              "    }\n",
              "\n",
              "    .dataframe thead th {\n",
              "        text-align: right;\n",
              "    }\n",
              "</style>\n",
              "<table border=\"1\" class=\"dataframe\">\n",
              "  <thead>\n",
              "    <tr style=\"text-align: right;\">\n",
              "      <th></th>\n",
              "      <th>0</th>\n",
              "    </tr>\n",
              "  </thead>\n",
              "  <tbody>\n",
              "    <tr>\n",
              "      <th>participant_id</th>\n",
              "      <td>0</td>\n",
              "    </tr>\n",
              "    <tr>\n",
              "      <th>diagnosis</th>\n",
              "      <td>0</td>\n",
              "    </tr>\n",
              "    <tr>\n",
              "      <th>roi0</th>\n",
              "      <td>0</td>\n",
              "    </tr>\n",
              "    <tr>\n",
              "      <th>roi1</th>\n",
              "      <td>0</td>\n",
              "    </tr>\n",
              "    <tr>\n",
              "      <th>roi2</th>\n",
              "      <td>0</td>\n",
              "    </tr>\n",
              "    <tr>\n",
              "      <th>...</th>\n",
              "      <td>...</td>\n",
              "    </tr>\n",
              "    <tr>\n",
              "      <th>roi140</th>\n",
              "      <td>0</td>\n",
              "    </tr>\n",
              "    <tr>\n",
              "      <th>roi141</th>\n",
              "      <td>0</td>\n",
              "    </tr>\n",
              "    <tr>\n",
              "      <th>roi142</th>\n",
              "      <td>0</td>\n",
              "    </tr>\n",
              "    <tr>\n",
              "      <th>roi143</th>\n",
              "      <td>0</td>\n",
              "    </tr>\n",
              "    <tr>\n",
              "      <th>roi144</th>\n",
              "      <td>0</td>\n",
              "    </tr>\n",
              "  </tbody>\n",
              "</table>\n",
              "<p>147 rows × 1 columns</p>\n",
              "</div><br><label><b>dtype:</b> int64</label>"
            ]
          },
          "metadata": {},
          "execution_count": 40
        }
      ],
      "source": [
        "clinical_data.isnull().sum()"
      ]
    },
    {
      "cell_type": "code",
      "execution_count": 41,
      "metadata": {
        "colab": {
          "base_uri": "https://localhost:8080/",
          "height": 458
        },
        "collapsed": true,
        "id": "cg9Qz0mEeS7w",
        "outputId": "955364aa-2c0c-4dd9-e1a2-e34b80cbe743"
      },
      "outputs": [
        {
          "output_type": "execute_result",
          "data": {
            "text/plain": [
              "participant_id    0\n",
              "SNP0              0\n",
              "SNP1              0\n",
              "SNP2              0\n",
              "SNP3              0\n",
              "                 ..\n",
              "SNP95             0\n",
              "SNP96             0\n",
              "SNP97             0\n",
              "SNP98             0\n",
              "SNP99             0\n",
              "Length: 101, dtype: int64"
            ],
            "text/html": [
              "<div>\n",
              "<style scoped>\n",
              "    .dataframe tbody tr th:only-of-type {\n",
              "        vertical-align: middle;\n",
              "    }\n",
              "\n",
              "    .dataframe tbody tr th {\n",
              "        vertical-align: top;\n",
              "    }\n",
              "\n",
              "    .dataframe thead th {\n",
              "        text-align: right;\n",
              "    }\n",
              "</style>\n",
              "<table border=\"1\" class=\"dataframe\">\n",
              "  <thead>\n",
              "    <tr style=\"text-align: right;\">\n",
              "      <th></th>\n",
              "      <th>0</th>\n",
              "    </tr>\n",
              "  </thead>\n",
              "  <tbody>\n",
              "    <tr>\n",
              "      <th>participant_id</th>\n",
              "      <td>0</td>\n",
              "    </tr>\n",
              "    <tr>\n",
              "      <th>SNP0</th>\n",
              "      <td>0</td>\n",
              "    </tr>\n",
              "    <tr>\n",
              "      <th>SNP1</th>\n",
              "      <td>0</td>\n",
              "    </tr>\n",
              "    <tr>\n",
              "      <th>SNP2</th>\n",
              "      <td>0</td>\n",
              "    </tr>\n",
              "    <tr>\n",
              "      <th>SNP3</th>\n",
              "      <td>0</td>\n",
              "    </tr>\n",
              "    <tr>\n",
              "      <th>...</th>\n",
              "      <td>...</td>\n",
              "    </tr>\n",
              "    <tr>\n",
              "      <th>SNP95</th>\n",
              "      <td>0</td>\n",
              "    </tr>\n",
              "    <tr>\n",
              "      <th>SNP96</th>\n",
              "      <td>0</td>\n",
              "    </tr>\n",
              "    <tr>\n",
              "      <th>SNP97</th>\n",
              "      <td>0</td>\n",
              "    </tr>\n",
              "    <tr>\n",
              "      <th>SNP98</th>\n",
              "      <td>0</td>\n",
              "    </tr>\n",
              "    <tr>\n",
              "      <th>SNP99</th>\n",
              "      <td>0</td>\n",
              "    </tr>\n",
              "  </tbody>\n",
              "</table>\n",
              "<p>101 rows × 1 columns</p>\n",
              "</div><br><label><b>dtype:</b> int64</label>"
            ]
          },
          "metadata": {},
          "execution_count": 41
        }
      ],
      "source": [
        "genetic_data.isnull().sum()"
      ]
    },
    {
      "cell_type": "code",
      "execution_count": 42,
      "metadata": {
        "id": "lxWNH85IgX1u"
      },
      "outputs": [],
      "source": [
        "# Merge the datasets on 'participant_id' to ensure both clinical and genetic data have matching participants\n",
        "merged_data = pd.merge(clinical_data, genetic_data, on='participant_id', how='inner')\n",
        "\n",
        "# Extract clinical and genetic data matrices\n",
        "X = merged_data.iloc[:, 2:2 + len(clinical_data.columns) - 1].values\n",
        "Z = merged_data.iloc[:, 2 + len(clinical_data.columns):].values"
      ]
    },
    {
      "cell_type": "code",
      "execution_count": 43,
      "metadata": {
        "colab": {
          "base_uri": "https://localhost:8080/"
        },
        "id": "xLzE_3gQh6v1",
        "outputId": "5f7ff25f-e42e-4182-82fb-692dc6bd3f20"
      },
      "outputs": [
        {
          "output_type": "execute_result",
          "data": {
            "text/plain": [
              "((1200, 146), (1200, 98))"
            ]
          },
          "metadata": {},
          "execution_count": 43
        }
      ],
      "source": [
        "X.shape, Z.shape"
      ]
    },
    {
      "cell_type": "code",
      "source": [
        "X_scaler = StandardScaler()\n",
        "X_scaled = X_scaler.fit_transform(X)\n",
        "\n",
        "Z_scaler = StandardScaler()\n",
        "Z_scaled = Z_scaler.fit_transform(Z)"
      ],
      "metadata": {
        "id": "1vRArTaa_51g"
      },
      "execution_count": 44,
      "outputs": []
    },
    {
      "cell_type": "code",
      "execution_count": 45,
      "metadata": {
        "id": "YIsATuS1i6q-"
      },
      "outputs": [],
      "source": [
        "\n",
        "np.random.seed(42)\n",
        "\n",
        "K = 2\n",
        "lambda_w = 0.01\n",
        "lambda_s = 0.001\n",
        "max_iter = 200\n",
        "\n",
        "V = np.random.rand(X.shape[1], K)  # Clinical data weight matrix\n",
        "W = np.random.rand(Z.shape[1], K)  # Genetic data weight matrix\n",
        "\n",
        "U = np.zeros((X.shape[0], K))\n",
        "for i in range(X.shape[0]):\n",
        "    U[i, np.random.randint(0, K)] = 1  # Assign each participant to one cluster\n",
        "\n",
        "# Initialize the residual matrix S (for clustering component)\n",
        "S = np.zeros_like(X)\n"
      ]
    },
    {
      "cell_type": "code",
      "source": [
        "def softmax(x):\n",
        "    # If x is 1D, reshape to 2D for consistent axis handling\n",
        "    if x.ndim == 1:\n",
        "        x = x.reshape(1, -1)\n",
        "\n",
        "    exp_x = np.exp(x - np.max(x, axis=1, keepdims=True))  # Numerical stability\n",
        "    return exp_x / np.sum(exp_x, axis=1, keepdims=True)\n"
      ],
      "metadata": {
        "id": "dLNXm3doN6wj"
      },
      "execution_count": 46,
      "outputs": []
    },
    {
      "cell_type": "code",
      "execution_count": 47,
      "metadata": {
        "id": "cq9XPzL9rdbZ"
      },
      "outputs": [],
      "source": [
        "def update_U(X, V, W, S, Z_scaled, K):\n",
        "    N = X.shape[0]\n",
        "    U = np.zeros((N, K))\n",
        "\n",
        "    # Precompute logits for all samples (N x K)\n",
        "    logits = Z_scaled @ W\n",
        "\n",
        "    for i in range(N):\n",
        "\n",
        "        sample_logits = logits[i]\n",
        "\n",
        "\n",
        "        softmax_probs = softmax(sample_logits)  # Automatically reshaped to (1, K)\n",
        "        softmax_probs = softmax_probs.ravel()  # Flatten back to (K,) for simplicity\n",
        "\n",
        "        min_loss = float('inf')\n",
        "        best_k = -1\n",
        "\n",
        "        for k in range(K):\n",
        "\n",
        "            clustering_loss = np.linalg.norm(X[i] - V[:, k] - S[i]) ** 2\n",
        "\n",
        "            classification_loss = -np.log(np.maximum(softmax_probs[k], 1e-10))\n",
        "\n",
        "            total_loss = clustering_loss + classification_loss\n",
        "\n",
        "            if total_loss < min_loss:\n",
        "                min_loss = total_loss\n",
        "                best_k = k\n",
        "\n",
        "        U[i, best_k] = 1\n",
        "\n",
        "    return U\n"
      ]
    },
    {
      "cell_type": "code",
      "execution_count": 48,
      "metadata": {
        "id": "fDX6ekjtsgI8"
      },
      "outputs": [],
      "source": [
        "import numpy as np\n",
        "\n",
        "def update_V(X, U, S, regularization_strength=1e-6):\n",
        "\n",
        "    UUT = U.T @ U\n",
        "\n",
        "    # Add regularization to the diagonal (ridge regression term)\n",
        "    UUT += np.eye(UUT.shape[0]) * regularization_strength\n",
        "\n",
        "    # Use the pseudo-inverse in case U^T * U is not invertible\n",
        "    try:\n",
        "        V = (X - S).T @ U @ np.linalg.pinv(UUT)\n",
        "    except np.linalg.LinAlgError as e:\n",
        "        print(\"Matrix inversion error:\", e)\n",
        "        V = None\n",
        "\n",
        "    return V\n"
      ]
    },
    {
      "cell_type": "code",
      "execution_count": 49,
      "metadata": {
        "id": "0PFzEEousuvd"
      },
      "outputs": [],
      "source": [
        "def update_W(Z, U, W, lambda_w, learning_rate=0.001, max_iter=50):\n",
        "    N = Z.shape[0]\n",
        "    K = W.shape[1]\n",
        "\n",
        "    for i in range(max_iter):\n",
        "        gradient = np.zeros_like(W)\n",
        "\n",
        "        # Compute the gradient for all samples and clusters\n",
        "        for k in range(K):\n",
        "            zi = Z\n",
        "            ui_k = U[:, k]\n",
        "\n",
        "            sigmoid = 1 / (1 + np.exp(-zi @ W[:, k]))\n",
        "\n",
        "            gradient[:, k] = zi.T @ (sigmoid - ui_k) / N\n",
        "\n",
        "        # Update weights with regularization\n",
        "        W -= learning_rate * (gradient + lambda_w * np.sign(W))\n",
        "\n",
        "\n",
        "    return W\n"
      ]
    },
    {
      "cell_type": "code",
      "execution_count": 50,
      "metadata": {
        "id": "2i9d1tQTs4Dr"
      },
      "outputs": [],
      "source": [
        "def update_S(X, V, U):\n",
        "    S = X - (V @ U.T).T\n",
        "    return S"
      ]
    },
    {
      "cell_type": "code",
      "source": [
        "def classification_loss(U, logits):\n",
        "    probs = softmax(logits)\n",
        "    return -np.sum(U * np.log(probs + 1e-12))  # Add small epsilon to avoid log(0)\n"
      ],
      "metadata": {
        "id": "LMvwZ4LiNcGj"
      },
      "execution_count": 51,
      "outputs": []
    },
    {
      "cell_type": "code",
      "execution_count": 52,
      "metadata": {
        "id": "Bt8BB1LPwfC_"
      },
      "outputs": [],
      "source": [
        "def compute_loss(X, V, W, U, S, Z_scaled, lambda_w):\n",
        "\n",
        "    clustering_loss = np.linalg.norm(X - (V @ U.T).T - S, ord='fro')**2\n",
        "\n",
        "    logits = Z_scaled @ W\n",
        "    classification_loss_value = classification_loss(U, logits)\n",
        "\n",
        "    # Regularization for weights (L1-norm of W)\n",
        "    reg_loss = lambda_w * np.sum(np.abs(W))\n",
        "\n",
        "    # Regularization for residuals (Frobenius norm of S)\n",
        "    reg_s_loss = lambda_s * np.linalg.norm(S, 'fro')**2\n",
        "\n",
        "    total_loss = clustering_loss + classification_loss_value + reg_loss + reg_s_loss\n",
        "\n",
        "    return total_loss\n"
      ]
    },
    {
      "cell_type": "markdown",
      "source": [],
      "metadata": {
        "id": "DM-GVuztVU2V"
      }
    },
    {
      "cell_type": "code",
      "execution_count": 53,
      "metadata": {
        "colab": {
          "base_uri": "https://localhost:8080/"
        },
        "id": "NlRpnuuFs5pQ",
        "outputId": "aa745029-f578-409d-8f7f-12b7147444b8"
      },
      "outputs": [
        {
          "output_type": "stream",
          "name": "stdout",
          "text": [
            "Iteration 1/200\n",
            "Iteration 2/200\n",
            "Iteration 3/200\n",
            "Iteration 4/200\n",
            "Iteration 5/200\n",
            "Iteration 6/200\n",
            "Iteration 7/200\n",
            "Iteration 8/200\n",
            "Iteration 9/200\n",
            "Iteration 10/200\n",
            "Iteration 11/200\n",
            "Iteration 12/200\n",
            "Iteration 13/200\n",
            "Iteration 14/200\n",
            "Iteration 15/200\n",
            "Iteration 16/200\n",
            "Iteration 17/200\n",
            "Iteration 18/200\n",
            "Iteration 19/200\n",
            "Iteration 20/200\n",
            "Iteration 21/200\n",
            "Iteration 22/200\n",
            "Iteration 23/200\n",
            "Iteration 24/200\n",
            "Iteration 25/200\n",
            "Iteration 26/200\n",
            "Iteration 27/200\n",
            "Iteration 28/200\n",
            "Iteration 29/200\n",
            "Iteration 30/200\n",
            "Iteration 31/200\n",
            "Iteration 32/200\n",
            "Iteration 33/200\n",
            "Iteration 34/200\n",
            "Iteration 35/200\n",
            "Iteration 36/200\n",
            "Iteration 37/200\n",
            "Iteration 38/200\n",
            "Iteration 39/200\n",
            "Iteration 40/200\n",
            "Iteration 41/200\n",
            "Iteration 42/200\n",
            "Iteration 43/200\n",
            "Iteration 44/200\n",
            "Iteration 45/200\n",
            "Iteration 46/200\n",
            "Iteration 47/200\n",
            "Iteration 48/200\n",
            "Iteration 49/200\n",
            "Iteration 50/200\n",
            "Iteration 51/200\n",
            "Iteration 52/200\n",
            "Iteration 53/200\n",
            "Iteration 54/200\n",
            "Iteration 55/200\n",
            "Iteration 56/200\n",
            "Iteration 57/200\n",
            "Iteration 58/200\n",
            "Iteration 59/200\n",
            "Iteration 60/200\n",
            "Iteration 61/200\n",
            "Iteration 62/200\n",
            "Iteration 63/200\n",
            "Iteration 64/200\n",
            "Iteration 65/200\n",
            "Iteration 66/200\n",
            "Iteration 67/200\n",
            "Iteration 68/200\n",
            "Iteration 69/200\n",
            "Iteration 70/200\n",
            "Iteration 71/200\n",
            "Iteration 72/200\n",
            "Iteration 73/200\n",
            "Iteration 74/200\n",
            "Iteration 75/200\n",
            "Iteration 76/200\n",
            "Iteration 77/200\n",
            "Iteration 78/200\n",
            "Iteration 79/200\n",
            "Iteration 80/200\n",
            "Iteration 81/200\n",
            "Iteration 82/200\n",
            "Iteration 83/200\n",
            "Iteration 84/200\n",
            "Iteration 85/200\n",
            "Iteration 86/200\n",
            "Iteration 87/200\n",
            "Iteration 88/200\n",
            "Iteration 89/200\n",
            "Iteration 90/200\n",
            "Iteration 91/200\n",
            "Iteration 92/200\n",
            "Iteration 93/200\n",
            "Iteration 94/200\n",
            "Iteration 95/200\n",
            "Iteration 96/200\n",
            "Iteration 97/200\n",
            "Iteration 98/200\n",
            "Iteration 99/200\n",
            "Iteration 100/200\n",
            "Iteration 101/200\n",
            "Iteration 102/200\n",
            "Iteration 103/200\n",
            "Iteration 104/200\n",
            "Iteration 105/200\n",
            "Iteration 106/200\n",
            "Iteration 107/200\n",
            "Iteration 108/200\n",
            "Iteration 109/200\n",
            "Iteration 110/200\n",
            "Iteration 111/200\n",
            "Iteration 112/200\n",
            "Iteration 113/200\n",
            "Iteration 114/200\n",
            "Iteration 115/200\n",
            "Iteration 116/200\n",
            "Iteration 117/200\n",
            "Iteration 118/200\n",
            "Iteration 119/200\n",
            "Iteration 120/200\n",
            "Iteration 121/200\n",
            "Iteration 122/200\n",
            "Iteration 123/200\n",
            "Iteration 124/200\n",
            "Iteration 125/200\n",
            "Iteration 126/200\n",
            "Iteration 127/200\n",
            "Iteration 128/200\n",
            "Iteration 129/200\n",
            "Iteration 130/200\n",
            "Iteration 131/200\n",
            "Iteration 132/200\n",
            "Iteration 133/200\n",
            "Iteration 134/200\n",
            "Iteration 135/200\n",
            "Iteration 136/200\n",
            "Iteration 137/200\n",
            "Iteration 138/200\n",
            "Iteration 139/200\n",
            "Iteration 140/200\n",
            "Iteration 141/200\n",
            "Iteration 142/200\n",
            "Iteration 143/200\n",
            "Iteration 144/200\n",
            "Iteration 145/200\n",
            "Iteration 146/200\n",
            "Iteration 147/200\n",
            "Iteration 148/200\n",
            "Iteration 149/200\n",
            "Iteration 150/200\n",
            "Iteration 151/200\n",
            "Iteration 152/200\n",
            "Iteration 153/200\n",
            "Iteration 154/200\n",
            "Iteration 155/200\n",
            "Iteration 156/200\n",
            "Iteration 157/200\n",
            "Iteration 158/200\n",
            "Iteration 159/200\n",
            "Iteration 160/200\n",
            "Iteration 161/200\n",
            "Iteration 162/200\n",
            "Iteration 163/200\n",
            "Iteration 164/200\n",
            "Iteration 165/200\n",
            "Iteration 166/200\n",
            "Iteration 167/200\n",
            "Iteration 168/200\n",
            "Iteration 169/200\n",
            "Iteration 170/200\n",
            "Iteration 171/200\n",
            "Iteration 172/200\n",
            "Iteration 173/200\n",
            "Iteration 174/200\n",
            "Iteration 175/200\n",
            "Iteration 176/200\n",
            "Iteration 177/200\n",
            "Iteration 178/200\n",
            "Iteration 179/200\n",
            "Iteration 180/200\n",
            "Iteration 181/200\n",
            "Iteration 182/200\n",
            "Iteration 183/200\n",
            "Iteration 184/200\n",
            "Iteration 185/200\n",
            "Iteration 186/200\n",
            "Iteration 187/200\n",
            "Iteration 188/200\n",
            "Iteration 189/200\n",
            "Iteration 190/200\n",
            "Iteration 191/200\n",
            "Iteration 192/200\n",
            "Iteration 193/200\n",
            "Iteration 194/200\n",
            "Iteration 195/200\n",
            "Iteration 196/200\n",
            "Iteration 197/200\n",
            "Iteration 198/200\n",
            "Iteration 199/200\n",
            "Iteration 200/200\n"
          ]
        }
      ],
      "source": [
        "import matplotlib.pyplot as plt\n",
        "\n",
        "losses = []\n",
        "\n",
        "for iteration in range(max_iter):\n",
        "    print(f\"Iteration {iteration + 1}/{max_iter}\")\n",
        "\n",
        "    V = update_V(X_scaled, U, S)\n",
        "    W = update_W(Z_scaled, U, W, lambda_w)\n",
        "    S = update_S(X_scaled, V, U)\n",
        "    U = update_U(X, V, W, S, Z_scaled, K)\n",
        "\n",
        "\n",
        "    # Compute and store the loss\n",
        "    loss = compute_loss(X_scaled, V, W, U, S, Z_scaled, lambda_w)\n",
        "    losses.append(loss)\n",
        "\n"
      ]
    },
    {
      "cell_type": "code",
      "source": [
        "# Plot the loss curve\n",
        "plt.plot(range(1, len(losses) + 1), losses)\n",
        "plt.xlabel('Iteration')\n",
        "plt.ylabel('Loss')\n",
        "plt.title('Loss Curve')\n",
        "plt.show()"
      ],
      "metadata": {
        "id": "ztr766ZtKx86",
        "colab": {
          "base_uri": "https://localhost:8080/",
          "height": 472
        },
        "outputId": "4fcecd0c-0014-4940-93a6-f2ffba57c21e"
      },
      "execution_count": 54,
      "outputs": [
        {
          "output_type": "display_data",
          "data": {
            "text/plain": [
              "<Figure size 640x480 with 1 Axes>"
            ],
            "image/png": "[encoded data removed]"
          },
          "metadata": {}
        }
      ]
    }
  ],
  "metadata": {
    "colab": {
      "provenance": []
    },
    "kernelspec": {
      "display_name": "Python 3",
      "name": "python3"
    },
    "language_info": {
      "name": "python"
    }
  },
  "nbformat": 4,
  "nbformat_minor": 0
}