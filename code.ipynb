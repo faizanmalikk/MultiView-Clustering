{
  "cells": [
    {
      "cell_type": "code",
      "execution_count": null,
      "metadata": {
        "id": "eDTF9os1cm4n"
      },
      "outputs": [],
      "source": [
        "import pandas as pd\n",
        "import numpy as np\n",
        "from sklearn.preprocessing import StandardScaler\n",
        "\n",
        "from google.colab import drive"
      ]
    },
    {
      "cell_type": "code",
      "execution_count": null,
      "metadata": {
        "colab": {
          "base_uri": "https://localhost:8080/"
        },
        "id": "Vp-NlzE5cvaW",
        "outputId": "496a61e8-42c3-460d-c123-dd7a5f12ba37"
      },
      "outputs": [
        {
          "name": "stdout",
          "output_type": "stream",
          "text": [
            "Drive already mounted at /content/drive; to attempt to forcibly remount, call drive.mount(\"/content/drive\", force_remount=True).\n"
          ]
        }
      ],
      "source": [
        "drive.mount('/content/drive')"
      ]
    },
    {
      "cell_type": "code",
      "execution_count": null,
      "metadata": {
        "id": "ZsB1_0N5c9EU"
      },
      "outputs": [],
      "source": [
        "clinical_data = pd.read_csv('/content/drive/My Drive/Projects/multi-view/clinical.csv')\n",
        "\n",
        "genetic_data = pd.read_csv('/content/drive/My Drive/Projects/multi-view/genetic.csv')"
      ]
    },
    {
      "cell_type": "code",
      "execution_count": null,
      "metadata": {
        "colab": {
          "base_uri": "https://localhost:8080/",
          "height": 458
        },
        "collapsed": true,
        "id": "1Mv9JW3UeCFc",
        "outputId": "1b02983f-4650-45b0-eb4b-0887138b72df"
      },
      "outputs": [
        {
          "data": {
            "text/html": [
              "<div>\n",
              "<style scoped>\n",
              "    .dataframe tbody tr th:only-of-type {\n",
              "        vertical-align: middle;\n",
              "    }\n",
              "\n",
              "    .dataframe tbody tr th {\n",
              "        vertical-align: top;\n",
              "    }\n",
              "\n",
              "    .dataframe thead th {\n",
              "        text-align: right;\n",
              "    }\n",
              "</style>\n",
              "<table border=\"1\" class=\"dataframe\">\n",
              "  <thead>\n",
              "    <tr style=\"text-align: right;\">\n",
              "      <th></th>\n",
              "      <th>0</th>\n",
              "    </tr>\n",
              "  </thead>\n",
              "  <tbody>\n",
              "    <tr>\n",
              "      <th>participant_id</th>\n",
              "      <td>0</td>\n",
              "    </tr>\n",
              "    <tr>\n",
              "      <th>diagnosis</th>\n",
              "      <td>0</td>\n",
              "    </tr>\n",
              "    <tr>\n",
              "      <th>roi0</th>\n",
              "      <td>0</td>\n",
              "    </tr>\n",
              "    <tr>\n",
              "      <th>roi1</th>\n",
              "      <td>0</td>\n",
              "    </tr>\n",
              "    <tr>\n",
              "      <th>roi2</th>\n",
              "      <td>0</td>\n",
              "    </tr>\n",
              "    <tr>\n",
              "      <th>...</th>\n",
              "      <td>...</td>\n",
              "    </tr>\n",
              "    <tr>\n",
              "      <th>roi140</th>\n",
              "      <td>0</td>\n",
              "    </tr>\n",
              "    <tr>\n",
              "      <th>roi141</th>\n",
              "      <td>0</td>\n",
              "    </tr>\n",
              "    <tr>\n",
              "      <th>roi142</th>\n",
              "      <td>0</td>\n",
              "    </tr>\n",
              "    <tr>\n",
              "      <th>roi143</th>\n",
              "      <td>0</td>\n",
              "    </tr>\n",
              "    <tr>\n",
              "      <th>roi144</th>\n",
              "      <td>0</td>\n",
              "    </tr>\n",
              "  </tbody>\n",
              "</table>\n",
              "<p>147 rows × 1 columns</p>\n",
              "</div><br><label><b>dtype:</b> int64</label>"
            ],
            "text/plain": [
              "participant_id    0\n",
              "diagnosis         0\n",
              "roi0              0\n",
              "roi1              0\n",
              "roi2              0\n",
              "                 ..\n",
              "roi140            0\n",
              "roi141            0\n",
              "roi142            0\n",
              "roi143            0\n",
              "roi144            0\n",
              "Length: 147, dtype: int64"
            ]
          },
          "execution_count": 846,
          "metadata": {},
          "output_type": "execute_result"
        }
      ],
      "source": [
        "clinical_data.isnull().sum()"
      ]
    },
    {
      "cell_type": "code",
      "execution_count": null,
      "metadata": {
        "colab": {
          "base_uri": "https://localhost:8080/",
          "height": 458
        },
        "collapsed": true,
        "id": "cg9Qz0mEeS7w",
        "outputId": "3aa4f6dc-e761-4fa1-e6dc-63925f9c4146"
      },
      "outputs": [
        {
          "data": {
            "text/html": [
              "<div>\n",
              "<style scoped>\n",
              "    .dataframe tbody tr th:only-of-type {\n",
              "        vertical-align: middle;\n",
              "    }\n",
              "\n",
              "    .dataframe tbody tr th {\n",
              "        vertical-align: top;\n",
              "    }\n",
              "\n",
              "    .dataframe thead th {\n",
              "        text-align: right;\n",
              "    }\n",
              "</style>\n",
              "<table border=\"1\" class=\"dataframe\">\n",
              "  <thead>\n",
              "    <tr style=\"text-align: right;\">\n",
              "      <th></th>\n",
              "      <th>0</th>\n",
              "    </tr>\n",
              "  </thead>\n",
              "  <tbody>\n",
              "    <tr>\n",
              "      <th>participant_id</th>\n",
              "      <td>0</td>\n",
              "    </tr>\n",
              "    <tr>\n",
              "      <th>SNP0</th>\n",
              "      <td>0</td>\n",
              "    </tr>\n",
              "    <tr>\n",
              "      <th>SNP1</th>\n",
              "      <td>0</td>\n",
              "    </tr>\n",
              "    <tr>\n",
              "      <th>SNP2</th>\n",
              "      <td>0</td>\n",
              "    </tr>\n",
              "    <tr>\n",
              "      <th>SNP3</th>\n",
              "      <td>0</td>\n",
              "    </tr>\n",
              "    <tr>\n",
              "      <th>...</th>\n",
              "      <td>...</td>\n",
              "    </tr>\n",
              "    <tr>\n",
              "      <th>SNP95</th>\n",
              "      <td>0</td>\n",
              "    </tr>\n",
              "    <tr>\n",
              "      <th>SNP96</th>\n",
              "      <td>0</td>\n",
              "    </tr>\n",
              "    <tr>\n",
              "      <th>SNP97</th>\n",
              "      <td>0</td>\n",
              "    </tr>\n",
              "    <tr>\n",
              "      <th>SNP98</th>\n",
              "      <td>0</td>\n",
              "    </tr>\n",
              "    <tr>\n",
              "      <th>SNP99</th>\n",
              "      <td>0</td>\n",
              "    </tr>\n",
              "  </tbody>\n",
              "</table>\n",
              "<p>101 rows × 1 columns</p>\n",
              "</div><br><label><b>dtype:</b> int64</label>"
            ],
            "text/plain": [
              "participant_id    0\n",
              "SNP0              0\n",
              "SNP1              0\n",
              "SNP2              0\n",
              "SNP3              0\n",
              "                 ..\n",
              "SNP95             0\n",
              "SNP96             0\n",
              "SNP97             0\n",
              "SNP98             0\n",
              "SNP99             0\n",
              "Length: 101, dtype: int64"
            ]
          },
          "execution_count": 847,
          "metadata": {},
          "output_type": "execute_result"
        }
      ],
      "source": [
        "genetic_data.isnull().sum()"
      ]
    },
    {
      "cell_type": "code",
      "execution_count": null,
      "metadata": {
        "id": "lxWNH85IgX1u"
      },
      "outputs": [],
      "source": [
        "# Merge the datasets on 'participant_id' to ensure both clinical and genetic data have matching participants\n",
        "merged_data = pd.merge(clinical_data, genetic_data, on='participant_id', how='inner')\n",
        "\n",
        "# Extract clinical and genetic data matrices\n",
        "X = merged_data.iloc[:, 2:2 + len(clinical_data.columns) - 1].values\n",
        "Z = merged_data.iloc[:, 2 + len(clinical_data.columns):].values"
      ]
    },
    {
      "cell_type": "code",
      "execution_count": null,
      "metadata": {
        "colab": {
          "base_uri": "https://localhost:8080/"
        },
        "id": "xLzE_3gQh6v1",
        "outputId": "e0debb0f-52a2-4f16-ee69-3c99c57ca485"
      },
      "outputs": [
        {
          "data": {
            "text/plain": [
              "((1200, 146), (1200, 98))"
            ]
          },
          "execution_count": 849,
          "metadata": {},
          "output_type": "execute_result"
        }
      ],
      "source": [
        "X.shape, Z.shape"
      ]
    },
    {
      "cell_type": "code",
      "execution_count": null,
      "metadata": {
        "id": "1vRArTaa_51g"
      },
      "outputs": [],
      "source": [
        "X_scaler = StandardScaler()\n",
        "X_scaled = X_scaler.fit_transform(X)\n",
        "\n",
        "Z_scaler = StandardScaler()\n",
        "Z_scaled = Z_scaler.fit_transform(Z)"
      ]
    },
    {
      "cell_type": "code",
      "execution_count": null,
      "metadata": {
        "id": "YIsATuS1i6q-"
      },
      "outputs": [],
      "source": [
        "\n",
        "np.random.seed(42)\n",
        "\n",
        "K = 2\n",
        "lambda_w = 0.01\n",
        "lambda_s = 0.0001\n",
        "max_iter = 150\n",
        "\n",
        "V = np.random.rand(X.shape[1], K)  # Clinical data weight matrix\n",
        "W = np.random.rand(Z.shape[1], K)  # Genetic data weight matrix\n",
        "\n",
        "U = np.zeros((X.shape[0], K))\n",
        "for i in range(X.shape[0]):\n",
        "    U[i, np.random.randint(0, K)] = 1  # Assign each participant to one cluster\n",
        "\n",
        "# Initialize the residual matrix S (for clustering component)\n",
        "S = np.zeros_like(X)\n"
      ]
    },
    {
      "cell_type": "code",
      "execution_count": null,
      "metadata": {
        "id": "dLNXm3doN6wj"
      },
      "outputs": [],
      "source": [
        "def softmax(x):\n",
        "    # If x is 1D, reshape to 2D for consistent axis handling\n",
        "    if x.ndim == 1:\n",
        "        x = x.reshape(1, -1)\n",
        "\n",
        "    exp_x = np.exp(x - np.max(x, axis=1, keepdims=True))  # Numerical stability\n",
        "    return exp_x / np.sum(exp_x, axis=1, keepdims=True)\n"
      ]
    },
    {
      "cell_type": "code",
      "execution_count": null,
      "metadata": {
        "id": "cq9XPzL9rdbZ"
      },
      "outputs": [],
      "source": [
        "def update_U(X, V, W, S, Z_scaled, K):\n",
        "    N = X.shape[0]\n",
        "    U = np.zeros((N, K))\n",
        "\n",
        "    # Precompute logits for all samples (N x K)\n",
        "    logits = Z_scaled @ W\n",
        "    softmax_probs = softmax(logits)  # Apply softmax to all samples at once\n",
        "\n",
        "    for i in range(N):\n",
        "        min_loss = float('inf')\n",
        "        best_k = -1\n",
        "\n",
        "        for k in range(K):\n",
        "            clustering_loss = np.linalg.norm(X[i] - V[:, k] - S[i]) ** 2  \n",
        "            \n",
        "            classification_loss = -np.log(np.maximum(softmax_probs[i, k], 1e-10))  \n",
        "\n",
        "            total_loss = clustering_loss + classification_loss  \n",
        "\n",
        "            if np.isscalar(total_loss) and total_loss < min_loss:\n",
        "                min_loss = total_loss\n",
        "                best_k = k\n",
        "\n",
        "        U[i, best_k] = 1\n",
        "\n",
        "    return U\n"
      ]
    },
    {
      "cell_type": "code",
      "execution_count": null,
      "metadata": {
        "id": "fDX6ekjtsgI8"
      },
      "outputs": [],
      "source": [
        "import numpy as np\n",
        "\n",
        "def update_V(X, U, S, regularization_strength=1e-6):\n",
        "\n",
        "    UUT = U.T @ U\n",
        "\n",
        "    UUT += np.eye(UUT.shape[0]) * regularization_strength\n",
        "\n",
        "    # Use the pseudo-inverse in case U^T * U is not invertible\n",
        "    try:\n",
        "        V = (X - S).T @ U @ np.linalg.pinv(UUT)\n",
        "    except np.linalg.LinAlgError as e:\n",
        "        print(\"Matrix inversion error:\", e)\n",
        "        V = None\n",
        "\n",
        "    return V\n"
      ]
    },
    {
      "cell_type": "code",
      "execution_count": null,
      "metadata": {
        "id": "0PFzEEousuvd"
      },
      "outputs": [],
      "source": [
        "def update_W(Z, U, W, lambda_w, learning_rate=0.002, max_iter=50):\n",
        "    N = Z.shape[0]\n",
        "    K = W.shape[1]\n",
        "\n",
        "    for i in range(max_iter):\n",
        "        gradient = np.zeros_like(W)\n",
        "\n",
        "        # Compute the gradient for all samples and clusters\n",
        "        for k in range(K):\n",
        "            zi = Z\n",
        "            ui_k = U[:, k]\n",
        "\n",
        "            sigmoid = 1 / (1 + np.exp(-zi @ W[:, k]))\n",
        "\n",
        "            gradient[:, k] = zi.T @ (sigmoid - ui_k) / N\n",
        "\n",
        "        # Update weights with regularization\n",
        "        W -= learning_rate * (gradient + lambda_w * np.sign(W))\n",
        "\n",
        "\n",
        "    return W\n"
      ]
    },
    {
      "cell_type": "code",
      "execution_count": null,
      "metadata": {
        "id": "2i9d1tQTs4Dr"
      },
      "outputs": [],
      "source": [
        "def update_S(X, V, U):\n",
        "    S = X - (V @ U.T).T\n",
        "    return S"
      ]
    },
    {
      "cell_type": "code",
      "execution_count": null,
      "metadata": {
        "id": "LMvwZ4LiNcGj"
      },
      "outputs": [],
      "source": [
        "def classification_loss(U, logits):\n",
        "    probs = softmax(logits)\n",
        "    return -np.sum(U * np.log(probs + 1e-12))  # Add small epsilon to avoid log(0)\n"
      ]
    },
    {
      "cell_type": "code",
      "execution_count": null,
      "metadata": {
        "id": "Bt8BB1LPwfC_"
      },
      "outputs": [],
      "source": [
        "def compute_loss(X, V, W, U, Z_scaled, S, lambda_w, lambda_S):\n",
        "\n",
        "    # Compute clustering loss (Frobenius norm squared)\n",
        "    clustering_loss = np.linalg.norm(X - (V @ U.T).T , 'fro')**2 / X.shape[0]\n",
        "\n",
        "    # Compute classification loss\n",
        "    logits = Z_scaled @ W\n",
        "    classification_loss_value = classification_loss(U, logits)\n",
        "\n",
        "    # L1 Regularization for W (sparsity)\n",
        "    reg_loss = lambda_w * np.sum(np.abs(W))\n",
        "\n",
        "    # Frobenius regularization for S\n",
        "    reg_S_loss = lambda_S * np.linalg.norm(S, 'fro')**2\n",
        "\n",
        "    # Total loss\n",
        "    total_loss = clustering_loss + classification_loss_value + reg_loss + reg_S_loss\n",
        "\n",
        "    return total_loss\n"
      ]
    },
    {
      "cell_type": "code",
      "execution_count": null,
      "metadata": {
        "colab": {
          "base_uri": "https://localhost:8080/"
        },
        "id": "NlRpnuuFs5pQ",
        "outputId": "46a089e6-ddf1-46a6-b05f-f741da26c9b1"
      },
      "outputs": [
        {
          "name": "stdout",
          "output_type": "stream",
          "text": [
            "Iteration 1/150\n",
            "Iteration 2/150\n",
            "Iteration 3/150\n",
            "Iteration 4/150\n",
            "Iteration 5/150\n",
            "Iteration 6/150\n",
            "Iteration 7/150\n",
            "Iteration 8/150\n",
            "Iteration 9/150\n",
            "Iteration 10/150\n",
            "Iteration 11/150\n",
            "Iteration 12/150\n",
            "Iteration 13/150\n",
            "Iteration 14/150\n",
            "Iteration 15/150\n",
            "Iteration 16/150\n",
            "Iteration 17/150\n",
            "Iteration 18/150\n",
            "Iteration 19/150\n",
            "Iteration 20/150\n",
            "Iteration 21/150\n",
            "Iteration 22/150\n",
            "Iteration 23/150\n",
            "Iteration 24/150\n",
            "Iteration 25/150\n",
            "Iteration 26/150\n",
            "Iteration 27/150\n",
            "Iteration 28/150\n",
            "Iteration 29/150\n",
            "Iteration 30/150\n",
            "Iteration 31/150\n",
            "Iteration 32/150\n",
            "Iteration 33/150\n",
            "Iteration 34/150\n",
            "Iteration 35/150\n",
            "Iteration 36/150\n",
            "Iteration 37/150\n",
            "Iteration 38/150\n",
            "Iteration 39/150\n",
            "Iteration 40/150\n",
            "Iteration 41/150\n",
            "Iteration 42/150\n",
            "Iteration 43/150\n",
            "Iteration 44/150\n",
            "Iteration 45/150\n",
            "Iteration 46/150\n",
            "Iteration 47/150\n",
            "Iteration 48/150\n",
            "Iteration 49/150\n",
            "Iteration 50/150\n",
            "Iteration 51/150\n",
            "Iteration 52/150\n",
            "Iteration 53/150\n",
            "Iteration 54/150\n",
            "Iteration 55/150\n",
            "Iteration 56/150\n",
            "Iteration 57/150\n",
            "Iteration 58/150\n",
            "Iteration 59/150\n",
            "Iteration 60/150\n",
            "Iteration 61/150\n",
            "Iteration 62/150\n",
            "Iteration 63/150\n",
            "Iteration 64/150\n",
            "Iteration 65/150\n",
            "Iteration 66/150\n",
            "Iteration 67/150\n",
            "Iteration 68/150\n",
            "Iteration 69/150\n",
            "Iteration 70/150\n",
            "Iteration 71/150\n",
            "Iteration 72/150\n",
            "Iteration 73/150\n",
            "Iteration 74/150\n",
            "Iteration 75/150\n",
            "Iteration 76/150\n",
            "Iteration 77/150\n",
            "Iteration 78/150\n",
            "Iteration 79/150\n",
            "Iteration 80/150\n",
            "Iteration 81/150\n",
            "Iteration 82/150\n",
            "Iteration 83/150\n",
            "Iteration 84/150\n",
            "Iteration 85/150\n",
            "Iteration 86/150\n",
            "Iteration 87/150\n",
            "Iteration 88/150\n",
            "Iteration 89/150\n",
            "Iteration 90/150\n",
            "Iteration 91/150\n",
            "Iteration 92/150\n",
            "Iteration 93/150\n",
            "Iteration 94/150\n",
            "Iteration 95/150\n",
            "Iteration 96/150\n",
            "Iteration 97/150\n",
            "Iteration 98/150\n",
            "Iteration 99/150\n",
            "Iteration 100/150\n",
            "Iteration 101/150\n",
            "Iteration 102/150\n",
            "Iteration 103/150\n",
            "Iteration 104/150\n",
            "Iteration 105/150\n",
            "Iteration 106/150\n",
            "Iteration 107/150\n",
            "Iteration 108/150\n",
            "Iteration 109/150\n",
            "Iteration 110/150\n",
            "Iteration 111/150\n",
            "Iteration 112/150\n",
            "Iteration 113/150\n",
            "Iteration 114/150\n",
            "Iteration 115/150\n",
            "Iteration 116/150\n",
            "Iteration 117/150\n",
            "Iteration 118/150\n",
            "Iteration 119/150\n",
            "Iteration 120/150\n",
            "Iteration 121/150\n",
            "Iteration 122/150\n",
            "Iteration 123/150\n",
            "Iteration 124/150\n",
            "Iteration 125/150\n",
            "Iteration 126/150\n",
            "Iteration 127/150\n",
            "Iteration 128/150\n",
            "Iteration 129/150\n",
            "Iteration 130/150\n",
            "Iteration 131/150\n",
            "Iteration 132/150\n",
            "Iteration 133/150\n",
            "Iteration 134/150\n",
            "Iteration 135/150\n",
            "Iteration 136/150\n",
            "Iteration 137/150\n",
            "Iteration 138/150\n",
            "Iteration 139/150\n",
            "Iteration 140/150\n",
            "Iteration 141/150\n",
            "Iteration 142/150\n",
            "Iteration 143/150\n",
            "Iteration 144/150\n",
            "Iteration 145/150\n",
            "Iteration 146/150\n",
            "Iteration 147/150\n",
            "Iteration 148/150\n",
            "Iteration 149/150\n",
            "Iteration 150/150\n"
          ]
        }
      ],
      "source": [
        "import matplotlib.pyplot as plt\n",
        "\n",
        "losses = []\n",
        "\n",
        "for iteration in range(max_iter):\n",
        "    print(f\"Iteration {iteration + 1}/{max_iter}\")\n",
        "\n",
        "    V = update_V(X_scaled, U, S)\n",
        "    W = update_W(Z_scaled, U, W, lambda_w)\n",
        "    S = update_S(X_scaled, V, U)\n",
        "    U = update_U(X, V, W, S, Z_scaled, K)\n",
        "\n",
        "    # Compute and store the loss\n",
        "    loss = compute_loss(X, V, W, U, Z_scaled, S, lambda_w, lambda_s)\n",
        "\n",
        "    losses.append(loss)\n",
        "\n"
      ]
    },
    {
      "cell_type": "code",
      "execution_count": null,
      "metadata": {
        "colab": {
          "base_uri": "https://localhost:8080/",
          "height": 472
        },
        "id": "ztr766ZtKx86",
        "outputId": "382568a3-8832-468a-fb35-8f1d0ccd8c0d"
      },
      "outputs": [
        {
          "data": {
            "image/png": "[encoded data removed]",
            "text/plain": [
              "<Figure size 640x480 with 1 Axes>"
            ]
          },
          "metadata": {},
          "output_type": "display_data"
        }
      ],
      "source": [
        "# Plot the loss curve\n",
        "plt.plot(range(1, len(losses) + 1), losses)\n",
        "plt.xlabel('Iteration')\n",
        "plt.ylabel('Loss')\n",
        "plt.title('Loss Curve')\n",
        "plt.show()"
      ]
    }
  ],
  "metadata": {
    "colab": {
      "provenance": []
    },
    "kernelspec": {
      "display_name": "Python 3",
      "name": "python3"
    },
    "language_info": {
      "name": "python"
    }
  },
  "nbformat": 4,
  "nbformat_minor": 0
}
